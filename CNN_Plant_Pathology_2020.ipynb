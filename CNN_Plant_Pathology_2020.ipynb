{
  "nbformat": 4,
  "nbformat_minor": 0,
  "metadata": {
    "colab": {
      "provenance": [],
      "authorship_tag": "ABX9TyPyZjug4DISY2W9zz7xC6oT",
      "include_colab_link": true
    },
    "kernelspec": {
      "name": "python3",
      "display_name": "Python 3"
    },
    "language_info": {
      "name": "python"
    },
    "accelerator": "GPU"
  },
  "cells": [
    {
      "cell_type": "markdown",
      "metadata": {
        "id": "view-in-github",
        "colab_type": "text"
      },
      "source": [
        "<a href=\"https://colab.research.google.com/github/MarcosVeniciu/Machine-learning_Identificacao_de_enfermidades_em_folhas_de_macieira/blob/main/CNN_Plant_Pathology_2020.ipynb\" target=\"_parent\"><img src=\"https://colab.research.google.com/assets/colab-badge.svg\" alt=\"Open In Colab\"/></a>"
      ]
    },
    {
      "cell_type": "code",
      "execution_count": null,
      "metadata": {
        "id": "MsNU_DeqtAjw"
      },
      "outputs": [],
      "source": [
        "!pip install -q kaggle\n",
        "!pip install scikit-optimize"
      ]
    },
    {
      "cell_type": "code",
      "source": [
        "from skopt.space import Real, Categorical, Integer\n",
        "from tensorflow.keras.models import load_model\n",
        "from skopt.callbacks import CheckpointSaver\n",
        "from sklearn.metrics import roc_curve, auc\n",
        "from tensorflow.keras import backend as K\n",
        "from skopt.plots import plot_convergence\n",
        "from skopt.utils import use_named_args\n",
        "import matplotlib.pyplot as plt\n",
        "from skopt import gp_minimize\n",
        "from tensorflow import keras\n",
        "from skopt import dump, load\n",
        "from itertools import cycle\n",
        "from skopt import callbacks\n",
        "from numpy import asarray\n",
        "import tensorflow as tf\n",
        "from PIL import Image \n",
        "import pandas as pd\n",
        "import random"
      ],
      "metadata": {
        "id": "jGY5-NnctHiM"
      },
      "execution_count": 44,
      "outputs": []
    },
    {
      "cell_type": "markdown",
      "source": [
        "# Preparação do DataSet"
      ],
      "metadata": {
        "id": "xYo_MxoAtJi0"
      }
    },
    {
      "cell_type": "code",
      "source": [
        "# Upload do arquivo Kaggle.json\n",
        "\n",
        "from google.colab import files\n",
        "files.upload()"
      ],
      "metadata": {
        "id": "_riormrYtNwD"
      },
      "execution_count": null,
      "outputs": []
    },
    {
      "cell_type": "code",
      "source": [
        "# Cria uma pasta chamada Keggle e copia o arquivo Json para ela.\n",
        "! mkdir ~/.kaggle\n",
        "! cp kaggle.json ~/.kaggle/\n",
        "\n",
        "# Altera as permisções para o arquivo keggle.json\n",
        "! chmod 600 ~/.kaggle/kaggle.json"
      ],
      "metadata": {
        "id": "TPZun6oTtT50"
      },
      "execution_count": 4,
      "outputs": []
    },
    {
      "cell_type": "code",
      "source": [
        "# Download do DataSet que eu quero: https://www.kaggle.com/competitions/plant-pathology-2020-fgvc7/data\n",
        "# É preciso aceitar as regras na aba de Rules para poder fazer o dosnloas do dataset\n",
        "\n",
        "! kaggle competitions download -c plant-pathology-2020-fgvc7"
      ],
      "metadata": {
        "colab": {
          "base_uri": "https://localhost:8080/"
        },
        "id": "3z0ATDpItZbQ",
        "outputId": "3b6d050b-2026-46c0-aa8b-a8d4a04372e2"
      },
      "execution_count": 5,
      "outputs": [
        {
          "output_type": "stream",
          "name": "stdout",
          "text": [
            "Downloading plant-pathology-2020-fgvc7.zip to /content\n",
            " 99% 769M/779M [00:22<00:00, 34.1MB/s]\n",
            "100% 779M/779M [00:22<00:00, 37.0MB/s]\n"
          ]
        }
      ]
    },
    {
      "cell_type": "code",
      "source": [
        "# Descompacta o arquivo plant-pathology-2020-fgvc7\n",
        "! unzip plant-pathology-2020-fgvc7.zip"
      ],
      "metadata": {
        "id": "SBoYYezBtcPe"
      },
      "execution_count": null,
      "outputs": []
    },
    {
      "cell_type": "code",
      "source": [
        "# healthy = 1 planta saldavel, healthy = 0 alguma doença: multiple_diseases, rust ou scab\n",
        "dataset = pd.read_csv(\"/content/train.csv\")\n",
        "dataset"
      ],
      "metadata": {
        "colab": {
          "base_uri": "https://localhost:8080/",
          "height": 424
        },
        "id": "_NQ5NGDAthfE",
        "outputId": "0f15c1ce-2e08-4920-fd04-4ba41e701660"
      },
      "execution_count": 8,
      "outputs": [
        {
          "output_type": "execute_result",
          "data": {
            "text/plain": [
              "        image_id  healthy  multiple_diseases  rust  scab\n",
              "0        Train_0        0                  0     0     1\n",
              "1        Train_1        0                  1     0     0\n",
              "2        Train_2        1                  0     0     0\n",
              "3        Train_3        0                  0     1     0\n",
              "4        Train_4        1                  0     0     0\n",
              "...          ...      ...                ...   ...   ...\n",
              "1816  Train_1816        0                  0     0     1\n",
              "1817  Train_1817        1                  0     0     0\n",
              "1818  Train_1818        1                  0     0     0\n",
              "1819  Train_1819        0                  0     1     0\n",
              "1820  Train_1820        0                  0     0     1\n",
              "\n",
              "[1821 rows x 5 columns]"
            ],
            "text/html": [
              "\n",
              "  <div id=\"df-67a626ca-aeb9-461f-8c7f-ac04217e2144\">\n",
              "    <div class=\"colab-df-container\">\n",
              "      <div>\n",
              "<style scoped>\n",
              "    .dataframe tbody tr th:only-of-type {\n",
              "        vertical-align: middle;\n",
              "    }\n",
              "\n",
              "    .dataframe tbody tr th {\n",
              "        vertical-align: top;\n",
              "    }\n",
              "\n",
              "    .dataframe thead th {\n",
              "        text-align: right;\n",
              "    }\n",
              "</style>\n",
              "<table border=\"1\" class=\"dataframe\">\n",
              "  <thead>\n",
              "    <tr style=\"text-align: right;\">\n",
              "      <th></th>\n",
              "      <th>image_id</th>\n",
              "      <th>healthy</th>\n",
              "      <th>multiple_diseases</th>\n",
              "      <th>rust</th>\n",
              "      <th>scab</th>\n",
              "    </tr>\n",
              "  </thead>\n",
              "  <tbody>\n",
              "    <tr>\n",
              "      <th>0</th>\n",
              "      <td>Train_0</td>\n",
              "      <td>0</td>\n",
              "      <td>0</td>\n",
              "      <td>0</td>\n",
              "      <td>1</td>\n",
              "    </tr>\n",
              "    <tr>\n",
              "      <th>1</th>\n",
              "      <td>Train_1</td>\n",
              "      <td>0</td>\n",
              "      <td>1</td>\n",
              "      <td>0</td>\n",
              "      <td>0</td>\n",
              "    </tr>\n",
              "    <tr>\n",
              "      <th>2</th>\n",
              "      <td>Train_2</td>\n",
              "      <td>1</td>\n",
              "      <td>0</td>\n",
              "      <td>0</td>\n",
              "      <td>0</td>\n",
              "    </tr>\n",
              "    <tr>\n",
              "      <th>3</th>\n",
              "      <td>Train_3</td>\n",
              "      <td>0</td>\n",
              "      <td>0</td>\n",
              "      <td>1</td>\n",
              "      <td>0</td>\n",
              "    </tr>\n",
              "    <tr>\n",
              "      <th>4</th>\n",
              "      <td>Train_4</td>\n",
              "      <td>1</td>\n",
              "      <td>0</td>\n",
              "      <td>0</td>\n",
              "      <td>0</td>\n",
              "    </tr>\n",
              "    <tr>\n",
              "      <th>...</th>\n",
              "      <td>...</td>\n",
              "      <td>...</td>\n",
              "      <td>...</td>\n",
              "      <td>...</td>\n",
              "      <td>...</td>\n",
              "    </tr>\n",
              "    <tr>\n",
              "      <th>1816</th>\n",
              "      <td>Train_1816</td>\n",
              "      <td>0</td>\n",
              "      <td>0</td>\n",
              "      <td>0</td>\n",
              "      <td>1</td>\n",
              "    </tr>\n",
              "    <tr>\n",
              "      <th>1817</th>\n",
              "      <td>Train_1817</td>\n",
              "      <td>1</td>\n",
              "      <td>0</td>\n",
              "      <td>0</td>\n",
              "      <td>0</td>\n",
              "    </tr>\n",
              "    <tr>\n",
              "      <th>1818</th>\n",
              "      <td>Train_1818</td>\n",
              "      <td>1</td>\n",
              "      <td>0</td>\n",
              "      <td>0</td>\n",
              "      <td>0</td>\n",
              "    </tr>\n",
              "    <tr>\n",
              "      <th>1819</th>\n",
              "      <td>Train_1819</td>\n",
              "      <td>0</td>\n",
              "      <td>0</td>\n",
              "      <td>1</td>\n",
              "      <td>0</td>\n",
              "    </tr>\n",
              "    <tr>\n",
              "      <th>1820</th>\n",
              "      <td>Train_1820</td>\n",
              "      <td>0</td>\n",
              "      <td>0</td>\n",
              "      <td>0</td>\n",
              "      <td>1</td>\n",
              "    </tr>\n",
              "  </tbody>\n",
              "</table>\n",
              "<p>1821 rows × 5 columns</p>\n",
              "</div>\n",
              "      <button class=\"colab-df-convert\" onclick=\"convertToInteractive('df-67a626ca-aeb9-461f-8c7f-ac04217e2144')\"\n",
              "              title=\"Convert this dataframe to an interactive table.\"\n",
              "              style=\"display:none;\">\n",
              "        \n",
              "  <svg xmlns=\"http://www.w3.org/2000/svg\" height=\"24px\"viewBox=\"0 0 24 24\"\n",
              "       width=\"24px\">\n",
              "    <path d=\"M0 0h24v24H0V0z\" fill=\"none\"/>\n",
              "    <path d=\"M18.56 5.44l.94 2.06.94-2.06 2.06-.94-2.06-.94-.94-2.06-.94 2.06-2.06.94zm-11 1L8.5 8.5l.94-2.06 2.06-.94-2.06-.94L8.5 2.5l-.94 2.06-2.06.94zm10 10l.94 2.06.94-2.06 2.06-.94-2.06-.94-.94-2.06-.94 2.06-2.06.94z\"/><path d=\"M17.41 7.96l-1.37-1.37c-.4-.4-.92-.59-1.43-.59-.52 0-1.04.2-1.43.59L10.3 9.45l-7.72 7.72c-.78.78-.78 2.05 0 2.83L4 21.41c.39.39.9.59 1.41.59.51 0 1.02-.2 1.41-.59l7.78-7.78 2.81-2.81c.8-.78.8-2.07 0-2.86zM5.41 20L4 18.59l7.72-7.72 1.47 1.35L5.41 20z\"/>\n",
              "  </svg>\n",
              "      </button>\n",
              "      \n",
              "  <style>\n",
              "    .colab-df-container {\n",
              "      display:flex;\n",
              "      flex-wrap:wrap;\n",
              "      gap: 12px;\n",
              "    }\n",
              "\n",
              "    .colab-df-convert {\n",
              "      background-color: #E8F0FE;\n",
              "      border: none;\n",
              "      border-radius: 50%;\n",
              "      cursor: pointer;\n",
              "      display: none;\n",
              "      fill: #1967D2;\n",
              "      height: 32px;\n",
              "      padding: 0 0 0 0;\n",
              "      width: 32px;\n",
              "    }\n",
              "\n",
              "    .colab-df-convert:hover {\n",
              "      background-color: #E2EBFA;\n",
              "      box-shadow: 0px 1px 2px rgba(60, 64, 67, 0.3), 0px 1px 3px 1px rgba(60, 64, 67, 0.15);\n",
              "      fill: #174EA6;\n",
              "    }\n",
              "\n",
              "    [theme=dark] .colab-df-convert {\n",
              "      background-color: #3B4455;\n",
              "      fill: #D2E3FC;\n",
              "    }\n",
              "\n",
              "    [theme=dark] .colab-df-convert:hover {\n",
              "      background-color: #434B5C;\n",
              "      box-shadow: 0px 1px 3px 1px rgba(0, 0, 0, 0.15);\n",
              "      filter: drop-shadow(0px 1px 2px rgba(0, 0, 0, 0.3));\n",
              "      fill: #FFFFFF;\n",
              "    }\n",
              "  </style>\n",
              "\n",
              "      <script>\n",
              "        const buttonEl =\n",
              "          document.querySelector('#df-67a626ca-aeb9-461f-8c7f-ac04217e2144 button.colab-df-convert');\n",
              "        buttonEl.style.display =\n",
              "          google.colab.kernel.accessAllowed ? 'block' : 'none';\n",
              "\n",
              "        async function convertToInteractive(key) {\n",
              "          const element = document.querySelector('#df-67a626ca-aeb9-461f-8c7f-ac04217e2144');\n",
              "          const dataTable =\n",
              "            await google.colab.kernel.invokeFunction('convertToInteractive',\n",
              "                                                     [key], {});\n",
              "          if (!dataTable) return;\n",
              "\n",
              "          const docLinkHtml = 'Like what you see? Visit the ' +\n",
              "            '<a target=\"_blank\" href=https://colab.research.google.com/notebooks/data_table.ipynb>data table notebook</a>'\n",
              "            + ' to learn more about interactive tables.';\n",
              "          element.innerHTML = '';\n",
              "          dataTable['output_type'] = 'display_data';\n",
              "          await google.colab.output.renderOutput(dataTable, element);\n",
              "          const docLink = document.createElement('div');\n",
              "          docLink.innerHTML = docLinkHtml;\n",
              "          element.appendChild(docLink);\n",
              "        }\n",
              "      </script>\n",
              "    </div>\n",
              "  </div>\n",
              "  "
            ]
          },
          "metadata": {},
          "execution_count": 8
        }
      ]
    },
    {
      "cell_type": "code",
      "source": [
        "# Cria os diretórios para as imagens\n",
        "\n",
        "!mkdir Imagens_plantas\n",
        "!mkdir Imagens_plantas/healthy\n",
        "!mkdir Imagens_plantas/multiple_diseases\n",
        "!mkdir Imagens_plantas/rust\n",
        "!mkdir Imagens_plantas/scab"
      ],
      "metadata": {
        "id": "7L09pfQ6tkjM"
      },
      "execution_count": 9,
      "outputs": []
    },
    {
      "cell_type": "code",
      "source": [
        "# move as imagens de plantas saldaveis e doentes para a sua respectiva pasta em Imagens_plantas\n",
        "import os\n",
        "import shutil\n",
        "\n",
        "for i in range (1821): #0 ate 1820\n",
        "  caminho_origem =  \"/content/images/Train_\" + str(i) + \".jpg\"\n",
        "\n",
        "  if(dataset['healthy'][i] == 1):\n",
        "    shutil.move(caminho_origem, \"/content/Imagens_plantas/healthy\")\n",
        "  if(dataset['multiple_diseases'][i] == 1):\n",
        "    shutil.move(caminho_origem, \"/content/Imagens_plantas/multiple_diseases\")\n",
        "  if(dataset['rust'][i] == 1):\n",
        "    shutil.move(caminho_origem, \"/content/Imagens_plantas/rust\")\n",
        "  if(dataset['scab'][i] == 1):\n",
        "    shutil.move(caminho_origem, \"/content/Imagens_plantas/scab\")\n",
        "\n",
        "\n",
        "# Contar o numero de imagens nas pastas\n",
        "print(\"PLantas saudaveis: \"+ str(len(os.listdir(\"/content/Imagens_plantas/healthy\"))))\n",
        "print(\"PLantas com multiple diseases: \"+ str(len(os.listdir(\"/content/Imagens_plantas/multiple_diseases\"))))\n",
        "print(\"PLantas com rust: \"+ str(len(os.listdir(\"/content/Imagens_plantas/rust\"))))\n",
        "print(\"PLantas com scab: \"+ str(len(os.listdir(\"/content/Imagens_plantas/scab\"))))"
      ],
      "metadata": {
        "colab": {
          "base_uri": "https://localhost:8080/"
        },
        "id": "sugRaHN6tnRv",
        "outputId": "e61edc37-fcdd-4d08-80cf-f2d90384757f"
      },
      "execution_count": 10,
      "outputs": [
        {
          "output_type": "stream",
          "name": "stdout",
          "text": [
            "PLantas saudaveis: 516\n",
            "PLantas com multiple diseases: 91\n",
            "PLantas com rust: 622\n",
            "PLantas com scab: 592\n"
          ]
        }
      ]
    },
    {
      "cell_type": "markdown",
      "source": [
        "## Data Augmentation"
      ],
      "metadata": {
        "id": "dT4KfMaBtuJF"
      }
    },
    {
      "cell_type": "markdown",
      "source": [
        "### Funções"
      ],
      "metadata": {
        "id": "jkPC6GmMt6Z1"
      }
    },
    {
      "cell_type": "code",
      "source": [
        "# transformar uma imagem em um vetor.\n",
        "def imagem_to_array(imagem_local):\n",
        "  img = Image.open(imagem_local) \n",
        "  return asarray(img)"
      ],
      "metadata": {
        "id": "LHpXajeItzI1"
      },
      "execution_count": 45,
      "outputs": []
    },
    {
      "cell_type": "code",
      "source": [
        "# transforma um vetor em imagem.\n",
        "def array_to_imagem(imagem_array, novo_nome):\n",
        "  data = tf.keras.preprocessing.image.array_to_img(imagem_array, data_format=None,scale=False,dtype=None)\n",
        "  data.save(novo_nome)"
      ],
      "metadata": {
        "id": "NSEbtr9fuFmq"
      },
      "execution_count": 46,
      "outputs": []
    },
    {
      "cell_type": "code",
      "source": [
        "# Transformaçoes disponiveis\n",
        "\n",
        "def rotacao90(image):\n",
        "  return tf.image.rot90(image, 1)\n",
        "\n",
        "def rotacao180(image):\n",
        "  return tf.image.rot90(image, 2)\n",
        "\n",
        "def rotacao270(image):\n",
        "  return tf.image.rot90(image, 3)\n",
        "\n",
        "def saturation(image):\n",
        "  return tf.image.adjust_saturation(image, 3)\n",
        "\n",
        "def flip_up_down (image):\n",
        "  seed = (2, 3)\n",
        "  return tf.image.stateless_random_flip_up_down(image, seed)\n",
        "\n",
        "def rotacao90_flip_left_right(image):\n",
        "  imagem = tf.image.rot90(image, 1)\n",
        "  return tf.image.flip_left_right(imagem)\n",
        "\n",
        "def rotacao90_flip_up_down(image):\n",
        "  seed = (2, 3)\n",
        "  imagem = tf.image.rot90(image, 1)\n",
        "  return tf.image.stateless_random_flip_up_down(imagem, seed)"
      ],
      "metadata": {
        "id": "ZJ8RG46WuMds"
      },
      "execution_count": 47,
      "outputs": []
    },
    {
      "cell_type": "code",
      "source": [
        "# Transforma e salva as novas imagens\n",
        "\n",
        "# Transformação 1\n",
        "def transformacao_1 (imagem, local, nome):\n",
        "  transformada = rotacao90(imagem)\n",
        "  novo_nome = \"rotacao90_\" + nome\n",
        "  dir = local + novo_nome\n",
        "  array_to_imagem(transformada, dir)\n",
        "\n",
        "# Transformação 2\n",
        "def transformacao_2 (imagem, local, nome):\n",
        "  transformada = rotacao180(imagem)\n",
        "  novo_nome = \"rotacao180_\" + nome\n",
        "  dir = local + novo_nome\n",
        "  array_to_imagem(transformada, dir)\n",
        "\n",
        "# Transformação 3\n",
        "def transformacao_3 (imagem, local, nome):\n",
        "  transformada = rotacao270(imagem)\n",
        "  novo_nome = \"rotacao270_\" + nome\n",
        "  dir = local + novo_nome\n",
        "  array_to_imagem(transformada, dir)\n",
        "\n",
        "# Transformação 4\n",
        "def transformacao_4 (imagem, local, nome):\n",
        "  transformada = rotacao90_flip_up_down(imagem)\n",
        "  novo_nome = \"rotacao90_flip_up_down_\" + nome\n",
        "  dir = local + novo_nome\n",
        "  array_to_imagem(transformada, dir)\n",
        "\n",
        "# Transformação 5\n",
        "def transformacao_5 (imagem, local, nome):\n",
        "  transformada = flip_up_down(imagem)\n",
        "  novo_nome =  \"flip_up_down_\" + nome\n",
        "  dir = local + novo_nome\n",
        "  array_to_imagem(transformada, dir)\n",
        "\n",
        "# Transformação 6\n",
        "def transformacao_6 (imagem, local, nome):\n",
        "  transformada = rotacao90_flip_left_right(imagem)\n",
        "  novo_nome = \"rotacao90_flip_left_right_\" + nome\n",
        "  dir = local + novo_nome\n",
        "  array_to_imagem(transformada, dir)\n",
        "\n",
        "# Transformação 7\n",
        "def transformacao_7 (imagem, local, nome):\n",
        "  transformada = saturation(imagem)\n",
        "  novo_nome = \"saturation_\" + nome\n",
        "  dir = local + novo_nome\n",
        "  array_to_imagem(transformada, dir)"
      ],
      "metadata": {
        "id": "XPfGOZG8uS6f"
      },
      "execution_count": 48,
      "outputs": []
    },
    {
      "cell_type": "code",
      "source": [
        "# Transforma e salva as novas imagens\n",
        "\n",
        "# Transformação 1\n",
        "def transformacao_1 (imagem, local, nome):\n",
        "  transformada = rotacao90(imagem)\n",
        "  novo_nome = \"rotacao90_\" + nome\n",
        "  dir = local + novo_nome\n",
        "  array_to_imagem(transformada, dir)\n",
        "\n",
        "# Transformação 2\n",
        "def transformacao_2 (imagem, local, nome):\n",
        "  transformada = rotacao180(imagem)\n",
        "  novo_nome = \"rotacao180_\" + nome\n",
        "  dir = local + novo_nome\n",
        "  array_to_imagem(transformada, dir)\n",
        "\n",
        "# Transformação 3\n",
        "def transformacao_3 (imagem, local, nome):\n",
        "  transformada = rotacao270(imagem)\n",
        "  novo_nome = \"rotacao270_\" + nome\n",
        "  dir = local + novo_nome\n",
        "  array_to_imagem(transformada, dir)\n",
        "\n",
        "# Transformação 4\n",
        "def transformacao_4 (imagem, local, nome):\n",
        "  transformada = rotacao90_flip_up_down(imagem)\n",
        "  novo_nome = \"rotacao90_flip_up_down_\" + nome\n",
        "  dir = local + novo_nome\n",
        "  array_to_imagem(transformada, dir)\n",
        "\n",
        "# Transformação 5\n",
        "def transformacao_5 (imagem, local, nome):\n",
        "  transformada = flip_up_down(imagem)\n",
        "  novo_nome =  \"flip_up_down_\" + nome\n",
        "  dir = local + novo_nome\n",
        "  array_to_imagem(transformada, dir)\n",
        "\n",
        "# Transformação 6\n",
        "def transformacao_6 (imagem, local, nome):\n",
        "  transformada = rotacao90_flip_left_right(imagem)\n",
        "  novo_nome = \"rotacao90_flip_left_right_\" + nome\n",
        "  dir = local + novo_nome\n",
        "  array_to_imagem(transformada, dir)\n",
        "\n",
        "# Transformação 7\n",
        "def transformacao_7 (imagem, local, nome):\n",
        "  transformada = saturation(imagem)\n",
        "  novo_nome = \"saturation_\" + nome\n",
        "  dir = local + novo_nome\n",
        "  array_to_imagem(transformada, dir)\n",
        "def DataAugmentation (local, total):\n",
        "  lista = os.listdir(local) #lisa com o nome das imagens que estão na pasta\n",
        "\n",
        "  indices_sorteados = random.sample(range(len(lista)), len(lista)) # sorteia as imagens que seram tranformadas\n",
        "\n",
        "  contagem = len(lista)# definida uma unica vez\n",
        "\n",
        "  indice = 0 # reseta a cada nova transformação\n",
        "  while ( (contagem < total) and (indice < len(indices_sorteados)) ):\n",
        "    i = indices_sorteados[indice]\n",
        "    imagem_local = local +lista[i]\n",
        "    imagem = imagem_to_array(imagem_local) # converte a imagem para um array\n",
        "    nome = lista[i] \n",
        "\n",
        "    transformacao_1 (imagem, local, nome) # rotacao 90\n",
        "\n",
        "    contagem = contagem +1\n",
        "    indice = indice +1\n",
        "\n",
        "  \n",
        "  indice = 0 # reseta a cada nova transformação\n",
        "  while ( (contagem < total) and (indice < len(indices_sorteados)) ):\n",
        "    i = indices_sorteados[indice]\n",
        "    imagem_local = local +lista[i]\n",
        "    imagem = imagem_to_array(imagem_local) # converte a imagem para um array\n",
        "    nome = lista[i] \n",
        "\n",
        "    transformacao_2 (imagem, local, nome) # rotacao 180\n",
        "\n",
        "    contagem = contagem +1\n",
        "    indice = indice +1\n",
        "\n",
        "  \n",
        "  indice = 0 # reseta a cada nova transformação\n",
        "  while ( (contagem < total) and (indice < len(indices_sorteados)) ):\n",
        "    i = indices_sorteados[indice]\n",
        "    imagem_local = local +lista[i]\n",
        "    imagem = imagem_to_array(imagem_local) # converte a imagem para um array\n",
        "    nome = lista[i] \n",
        "\n",
        "    transformacao_3 (imagem, local, nome) # rotacao 270\n",
        "\n",
        "    contagem = contagem +1\n",
        "    indice = indice +1\n",
        "\n",
        "\n",
        "  indice = 0 # reseta a cada nova transformação\n",
        "  while ( (contagem < total) and (indice < len(indices_sorteados)) ):\n",
        "    i = indices_sorteados[indice]\n",
        "    imagem_local = local +lista[i]\n",
        "    imagem = imagem_to_array(imagem_local) # converte a imagem para um array\n",
        "    nome = lista[i] \n",
        "\n",
        "    transformacao_4 (imagem, local, nome) # rotacao 90 + flip up down\n",
        "\n",
        "    contagem = contagem +1\n",
        "    indice = indice +1\n",
        "\n",
        "\n",
        "  \n",
        "  indice = 0 # reseta a cada nova transformação\n",
        "  while ( (contagem < total) and (indice < len(indices_sorteados)) ):\n",
        "    i = indices_sorteados[indice]\n",
        "    imagem_local = local +lista[i]\n",
        "    imagem = imagem_to_array(imagem_local) # converte a imagem para um array\n",
        "    nome = lista[i] \n",
        "\n",
        "    transformacao_5 (imagem, local, nome) # flip up down\n",
        "\n",
        "    contagem = contagem +1\n",
        "    indice = indice +1\n",
        "\n",
        "\n",
        "  indice = 0 # reseta a cada nova transformação\n",
        "  while ( (contagem < total) and (indice < len(indices_sorteados)) ):\n",
        "    i = indices_sorteados[indice]\n",
        "    imagem_local = local +lista[i]\n",
        "    imagem = imagem_to_array(imagem_local) # converte a imagem para um array\n",
        "    nome = lista[i] \n",
        "\n",
        "    transformacao_6 (imagem, local, nome) # rotacao 90 + flip left right\n",
        "\n",
        "    contagem = contagem +1\n",
        "    indice = indice +1\n",
        "\n",
        "\n",
        "  indice = 0 # reseta a cada nova transformação\n",
        "  while ( (contagem < total) and (indice < len(indices_sorteados)) ):\n",
        "    i = indices_sorteados[indice]\n",
        "    imagem_local = local +lista[i]\n",
        "    imagem = imagem_to_array(imagem_local) # converte a imagem para um array\n",
        "    nome = lista[i] \n",
        "\n",
        "    transformacao_7 (imagem, local, nome) # saturation\n",
        "\n",
        "    contagem = contagem +1\n",
        "    indice = indice +1"
      ],
      "metadata": {
        "id": "B9SFviEzuhhQ"
      },
      "execution_count": 49,
      "outputs": []
    },
    {
      "cell_type": "code",
      "source": [
        "# Contar o numero de imagens nas pastas\n",
        "\n",
        "def Contar_Imagens(locais):\n",
        "  for local in locais:\n",
        "    print(local )\n",
        "    print(len(os.listdir(local)))"
      ],
      "metadata": {
        "id": "et5Ce_8CukbO"
      },
      "execution_count": 52,
      "outputs": []
    },
    {
      "cell_type": "markdown",
      "source": [
        "### Aplicando o aumento de imagens"
      ],
      "metadata": {
        "id": "GktSGuzZumT8"
      }
    },
    {
      "cell_type": "code",
      "source": [
        "# Aplicas varias transformações em todas as imagens presentes nas classes.\n",
        "total = 637 #Total de imagens por classe\n",
        "\n",
        "locais = [\"/content/Imagens_plantas/healthy/\", \"/content/Imagens_plantas/multiple_diseases/\",\n",
        "          \"/content/Imagens_plantas/rust/\",\"/content/Imagens_plantas/scab/\"]\n",
        "\n",
        "for local in locais:# Percorre todos as classes\n",
        "  # Realiza o aumento de dados\n",
        "  DataAugmentation (local, total) # Realiza o aumento de dados na classe\n",
        "\n",
        "Contar_Imagens(locais) # Conta o numero de imagens apos o aumento de dados"
      ],
      "metadata": {
        "colab": {
          "base_uri": "https://localhost:8080/"
        },
        "id": "7IbR39O0upm9",
        "outputId": "b3a4f652-fb49-47c7-e789-5e50b563c062"
      },
      "execution_count": 54,
      "outputs": [
        {
          "output_type": "stream",
          "name": "stdout",
          "text": [
            "/content/Imagens_plantas/healthy/\n",
            "637\n",
            "/content/Imagens_plantas/multiple_diseases/\n",
            "637\n",
            "/content/Imagens_plantas/rust/\n",
            "637\n",
            "/content/Imagens_plantas/scab/\n",
            "637\n"
          ]
        }
      ]
    },
    {
      "cell_type": "markdown",
      "source": [
        "# Preparação do Modelo"
      ],
      "metadata": {
        "id": "xo4VB24jvp2w"
      }
    },
    {
      "cell_type": "markdown",
      "source": [
        "## Pré-processamento das imagens de treino e validação"
      ],
      "metadata": {
        "id": "x5Yjmcs-v8Pr"
      }
    },
    {
      "cell_type": "code",
      "source": [
        "image_size = (180, 180)\n",
        "batch_size = 32"
      ],
      "metadata": {
        "id": "G7O1EDu7vq4t"
      },
      "execution_count": 55,
      "outputs": []
    },
    {
      "cell_type": "code",
      "source": [
        "diretorio_imagens = \"/content/Imagens_plantas\"\n",
        "\n",
        "train_ds = tf.keras.preprocessing.image_dataset_from_directory(\n",
        "    diretorio_imagens,\n",
        "    validation_split=0.2, # 20% das imagens serão para validação e os 80% restantes seram para o treino\n",
        "    subset=\"training\",\n",
        "    seed=1337,\n",
        "    image_size=image_size,\n",
        "    batch_size=batch_size,\n",
        ")\n",
        "\n",
        "\n",
        "val_ds = tf.keras.preprocessing.image_dataset_from_directory(\n",
        "    diretorio_imagens,\n",
        "    validation_split=0.2, # 20% das imagens serão para validação e os 80% restantes seram para o treino\n",
        "    subset=\"validation\",\n",
        "    seed=1337,\n",
        "    image_size=image_size,\n",
        "    batch_size=batch_size,\n",
        ")"
      ],
      "metadata": {
        "id": "WhPuhurfwAiZ"
      },
      "execution_count": null,
      "outputs": []
    },
    {
      "cell_type": "code",
      "source": [
        "# Configurando o dataset\n",
        "train_ds = train_ds.prefetch(buffer_size=32)\n",
        "val_ds = val_ds.prefetch(buffer_size=32)"
      ],
      "metadata": {
        "id": "lOZfkCLowWRh"
      },
      "execution_count": 57,
      "outputs": []
    },
    {
      "cell_type": "code",
      "source": [
        "# Aplicando algumas transformações nas imagens, para aumentar o dataset\n",
        "\n",
        "data_augmentation = keras.Sequential(\n",
        "    [\n",
        "        keras.layers.experimental.preprocessing.RandomFlip(\"horizontal\"),\n",
        "        keras.layers.experimental.preprocessing.RandomRotation(0.12),\n",
        "    ]\n",
        ")"
      ],
      "metadata": {
        "id": "s6QlCDNZwRF-"
      },
      "execution_count": 58,
      "outputs": []
    },
    {
      "cell_type": "code",
      "source": [
        "# Visualizar algumas das imagens. Onde o numero acima da imagen indica o indice da classe. \n",
        "# healthy = 0, multiple_diseases = 1, rust = 2, scab = 3\n",
        "\n",
        "plt.figure(figsize=(10, 10))\n",
        "for images, labels in train_ds.take(1):\n",
        "    for i in range(9):\n",
        "        ax = plt.subplot(3, 3, i + 1)\n",
        "        plt.imshow(images[i].numpy().astype(\"uint8\"))\n",
        "        plt.title(int(labels[i]))\n",
        "        plt.axis(\"off\")"
      ],
      "metadata": {
        "id": "4DpMKR2vwLIp"
      },
      "execution_count": null,
      "outputs": []
    },
    {
      "cell_type": "markdown",
      "source": [
        "## Modelos"
      ],
      "metadata": {
        "id": "Q2nIEFNWwdWh"
      }
    },
    {
      "cell_type": "code",
      "source": [
        "def MobileNetV2(input_shape, num_classes, dropout):\n",
        "  base_model = keras.applications.MobileNetV2(\n",
        "    weights= None,  # Os pesos serão inicializados aleatóriamente.\n",
        "    input_shape= input_shape,\n",
        "    alpha=1.0,\n",
        "    include_top=False, # Não vai incluir a camada de classificação.\n",
        "  )\n",
        "\n",
        "  # Freeze the base_model\n",
        "  base_model.trainable = True # Sendo True vai permitir que os pesos sejam atualizados durante o treinamento\n",
        "\n",
        "  inputs = keras.Input(shape = input_shape)\n",
        "  x = data_augmentation(inputs)  # Apply random data augmentation\n",
        "\n",
        "  scale_layer = keras.layers.Rescaling(scale=1 / 127.5, offset=-1)\n",
        "  x = scale_layer(x)\n",
        "\n",
        "  x = base_model(x, training=True)\n",
        "  x = keras.layers.GlobalAveragePooling2D()(x)\n",
        "\n",
        "  if num_classes == 2:\n",
        "    activation = \"sigmoid\"\n",
        "    units = 1\n",
        "  else:\n",
        "    activation = \"softmax\"\n",
        "    units = num_classes\n",
        "\n",
        "  x = keras.layers.Dropout(dropout, name=\"dropout_2\")(x) # Regularize with dropout\n",
        "  x = keras.layers.Dense(640, activation='relu')(x)\n",
        "  x = keras.layers.Dense(320, activation='relu')(x)\n",
        "  outputs = keras.layers.Dense(units, activation=activation)(x)\n",
        "  \n",
        "  return keras.Model(inputs, outputs)"
      ],
      "metadata": {
        "id": "xQ7ZRoi3wefP"
      },
      "execution_count": 59,
      "outputs": []
    },
    {
      "cell_type": "code",
      "source": [
        "def xception(input_shape, num_classes, dropout):\n",
        "  base_model = keras.applications.Xception(\n",
        "    weights=None,  # Os pesos serão inicializados aleatóriamente.\n",
        "    input_shape=input_shape,\n",
        "    include_top=False, # Não vai incluir a camada de classificação\n",
        "  )  \n",
        "\n",
        "  # freeze the base_model\n",
        "  base_model.trainable = True # Sendo True vai permitir que os pesos sejam atualizados durante o treinamento\n",
        "\n",
        "  # Create new model on top\n",
        "  inputs = keras.Input(shape=input_shape)\n",
        "  x = data_augmentation(inputs)  # Apply random data augmentation\n",
        "\n",
        "  # Pre-trained Xception weights requires that input be scaled\n",
        "  # from (0, 255) to a range of (-1., +1.), the rescaling layer\n",
        "  # outputs: `(inputs * scale) + offset`\n",
        "  scale_layer = keras.layers.Rescaling(scale=1 / 127.5, offset=-1)\n",
        "  x = scale_layer(x)\n",
        "  \n",
        "  # The base model contains batchnorm layers. We want to keep them in inference mode\n",
        "  # when we unfreeze the base model for fine-tuning, so we make sure that the\n",
        "  # base_model is running in inference mode here.\n",
        "  x = base_model(x, training=True)\n",
        "  x = keras.layers.GlobalAveragePooling2D()(x)\n",
        "\n",
        "  if num_classes == 2:\n",
        "    activation = \"sigmoid\"\n",
        "    units = 1\n",
        "  else:\n",
        "    activation = \"softmax\"\n",
        "    units = num_classes\n",
        "\n",
        "  x = keras.layers.Dropout(dropout, name=\"dropout_2\")(x) # Regularize with dropout\n",
        "  x = keras.layers.Dense(1024, activation=activation)(x)\n",
        "  x = keras.layers.Dense(512, activation=activation)(x)\n",
        "  outputs = keras.layers.Dense(units, activation=activation)(x)\n",
        "  return keras.Model(inputs, outputs)"
      ],
      "metadata": {
        "id": "T5fRzMxqwlw8"
      },
      "execution_count": null,
      "outputs": []
    },
    {
      "cell_type": "markdown",
      "source": [
        "# Ajuste de Hyperparâmetro"
      ],
      "metadata": {
        "id": "9vXQvvgfxagH"
      }
    },
    {
      "cell_type": "code",
      "source": [
        "nome_modelo = \"MobileNetV2_DataAugmentation\"\n",
        "best_score = 10.0 # Avaliando a taxa de loss\n",
        "best_historico = []"
      ],
      "metadata": {
        "id": "Xfo3iWBqz4Cs"
      },
      "execution_count": 60,
      "outputs": []
    },
    {
      "cell_type": "code",
      "source": [
        "espera = 3 \n",
        "espera_2 = 5\n",
        "reduce_lr = keras.callbacks.ReduceLROnPlateau(monitor=\"val_loss\", \n",
        "                                              mode = \"min\",\n",
        "                                              patience = espera,\n",
        "                                              factor=0.2,# 20% da taxa atual, reduz em 80%. nova lr = lr * fator\n",
        "                                              min_lr=0.0000001, # reduz até 1e-7\n",
        "                                              verbose = 1)\n",
        "earlystopping =  keras.callbacks.EarlyStopping(monitor =\"val_loss\", \n",
        "                                               mode =\"min\", \n",
        "                                               patience = espera_2, \n",
        "                                               restore_best_weights = True)"
      ],
      "metadata": {
        "id": "iDeT57wmxhnF"
      },
      "execution_count": 61,
      "outputs": []
    },
    {
      "cell_type": "markdown",
      "source": [
        "## Configuração da função objetivo."
      ],
      "metadata": {
        "id": "oBvUdjWY2cRd"
      }
    },
    {
      "cell_type": "code",
      "source": [
        "# Intervalo dos hyperparametros\n",
        "dim_taxa_aprendizado = Real(low=1e-6, high=1e-1, prior='log-uniform',name='learning_rate')\n",
        "\n",
        "dimensions = [dim_taxa_aprendizado]"
      ],
      "metadata": {
        "id": "E8pNaF5fxtM2"
      },
      "execution_count": 62,
      "outputs": []
    },
    {
      "cell_type": "code",
      "source": [
        "dropout = 0.6\n",
        "num_classes = 4\n",
        "iteracao = 1\n",
        "\n",
        "@use_named_args(dimensions=dimensions)\n",
        "def fitness(learning_rate):\n",
        "\n",
        "  # Cria um modelo usando os hyper-parameters especificados.\n",
        "  model = MobileNetV2(input_shape = image_size + (3,), num_classes = num_classes, dropout = dropout)  \n",
        "\n",
        "  # Compila o modelo com a taxade aprendizado especificado.\n",
        "  optimizer= keras.optimizers.Adam(learning_rate = learning_rate)\n",
        "\n",
        "  loss_function = \"SparseCategoricalCrossentropy\" if num_classes >= 3 else \"binary_crossentropy\"\n",
        "  model.compile(optimizer = optimizer, loss= loss_function, metrics=[\"accuracy\"],)\n",
        "\n",
        "  historico = model.fit(train_ds, epochs = 40, callbacks = [earlystopping, reduce_lr], validation_data = val_ds, verbose = 2)\n",
        "\n",
        "  score = model.evaluate(val_ds, steps = 10, verbose=0)\n",
        "  accuracy = score[1]\n",
        "  loss = score[0]\n",
        "\n",
        "  global best_score\n",
        "  global best_historico\n",
        "\n",
        "  if loss < best_score:\n",
        "    local = nome_modelo + \".h5\"\n",
        "    model.save(local)\n",
        "    best_accuracy = accuracy\n",
        "    best_historico = historico\n",
        "\n",
        "  del model\n",
        "  K.clear_session()\n",
        "\n",
        "  global iteracao\n",
        "  print()\n",
        "  print()\n",
        "  print(\"Iteração: {3} ||Acurácia: {0:.4f} || Loss: {1:.6f} || Taxa de Aprendizado: {2: .1e}\".format(accuracy, loss, learning_rate, iteracao))\n",
        "  print(\"-------------------------------------------------------------------------------\")\n",
        "  iteracao = iteracao +1\n",
        "  # Vai minimizar a taxa de loss\n",
        "  return loss\n"
      ],
      "metadata": {
        "id": "VFqP9CpZyUKg"
      },
      "execution_count": 63,
      "outputs": []
    },
    {
      "cell_type": "markdown",
      "source": [
        "## Busca de Hiperparâmetros"
      ],
      "metadata": {
        "id": "lHjaKsJA3Tuo"
      }
    },
    {
      "cell_type": "code",
      "source": [
        "# Continuar com uma execução anterior\n",
        "local_salvar = \"/content/checkpoint.pkl\"\n",
        "res = load(local_salvar)\n",
        "x0 = res.x_iters\n",
        "y0 = res.func_vals\n",
        "\n",
        "print(\"Total de Iterações já realizadas: \" + str(len(res.func_vals)))"
      ],
      "metadata": {
        "id": "HDoE3ziB3Wwl"
      },
      "execution_count": null,
      "outputs": []
    },
    {
      "cell_type": "code",
      "source": [
        "local_salvar = \"/content/checkpoint_data_augmentation.pkl\"\n",
        "checkpoint_saver = CheckpointSaver(local_salvar,  store_objective=False) \n",
        "res = gp_minimize(func=fitness,\n",
        "                    dimensions=dimensions,\n",
        "                    #x0=x0,                # already examined values for x\n",
        "                    #y0=y0,                # observed values for x0\n",
        "                    acq_func='EI',        # Expected Improvement.\n",
        "                    n_initial_points = 3, # numero de pontos aleatórios testados, antes de fazer a aproximação.\n",
        "                    n_calls = 10,     # Numero total de iterações da função.\n",
        "                    callback=[checkpoint_saver])"
      ],
      "metadata": {
        "id": "AL2S_vSz3kpQ"
      },
      "execution_count": null,
      "outputs": []
    },
    {
      "cell_type": "code",
      "source": [
        "# "
      ],
      "metadata": {
        "id": "82S-RMXfMrCA"
      },
      "execution_count": null,
      "outputs": []
    },
    {
      "cell_type": "markdown",
      "source": [
        "# Predições"
      ],
      "metadata": {
        "id": "Bssg7jqX6xMN"
      }
    },
    {
      "cell_type": "code",
      "source": [
        "# Cria um dataframe vazio para as previsões do modelo\n",
        "df = pd.DataFrame([], columns=['classe_real', 'predicao'])\n",
        "df"
      ],
      "metadata": {
        "id": "BcUAHiTA6zA7"
      },
      "execution_count": null,
      "outputs": []
    },
    {
      "cell_type": "code",
      "source": [
        "# Carrega o melhor modelo\n",
        "local_modelo = \"/content/\"+ nome_modelo + \".h5\"\n",
        "model = load_model(local_modelo)"
      ],
      "metadata": {
        "id": "IFe7FJiB669Y"
      },
      "execution_count": 26,
      "outputs": []
    },
    {
      "cell_type": "code",
      "source": [
        "model.evaluate(val_ds)"
      ],
      "metadata": {
        "id": "9RXT53UAZ6wt"
      },
      "execution_count": null,
      "outputs": []
    },
    {
      "cell_type": "code",
      "source": [
        "y_true = []\n",
        "y_pred = []\n",
        "for image_batch, labels_batch in val_ds:\n",
        "  y_pred_itera = model.predict(image_batch)\n",
        "  y_true_intera = labels_batch.numpy()\n",
        "  for i in range(len(y_true_intera)):\n",
        "    y_true.append(y_true_intera[i])  \n",
        "    y_pred.append(y_pred_itera[i][0])\n",
        "\n",
        "\n",
        "for i in range(len(y_pred)):\n",
        "  df = df.append({'classe_real' : y_true[i], 'predicao': y_pred[i]} ,ignore_index=True)   \n",
        "df\n",
        "\n",
        "#Criando o CSV\n",
        "nome_modelo = nome_modelo\n",
        "Nome_arquivo = \"classificacao_\" + nome_modelo + \".csv\"\n",
        "df.to_csv(Nome_arquivo, index = False)"
      ],
      "metadata": {
        "id": "Dvn1k1hY62N_"
      },
      "execution_count": 27,
      "outputs": []
    },
    {
      "cell_type": "markdown",
      "source": [
        "# Resultados"
      ],
      "metadata": {
        "id": "U8molWh14LhS"
      }
    },
    {
      "cell_type": "code",
      "source": [
        "plot_convergence(res)"
      ],
      "metadata": {
        "id": "-0TdQB5-BrTP"
      },
      "execution_count": null,
      "outputs": []
    },
    {
      "cell_type": "code",
      "source": [
        "# Melhores parâmetros\n",
        "print(\"Loss: \" + str(res.fun))\n",
        "print(\"\"\"Melhores parâmetros:\n",
        "- Taxa de aprendizado = %.9f\"\"\" % (res.x[0]))"
      ],
      "metadata": {
        "id": "N8zOKFps39Zb"
      },
      "execution_count": null,
      "outputs": []
    },
    {
      "cell_type": "code",
      "source": [
        "# Curva de Aprendizado\n",
        "\n",
        "def diferenca(historico):\n",
        "  accuracy = historico.history['accuracy'] \n",
        "  val_accuracy = historico.history['val_accuracy']\n",
        "  vetor_diferenca = []\n",
        "\n",
        "  for i in range(len(accuracy)):\n",
        "    diferenca = abs(accuracy[i] - val_accuracy[i])\n",
        "    vetor_diferenca.append(diferenca)\n",
        "\n",
        "  return vetor_diferenca\n",
        "\n",
        "historicos = [best_historico]\n",
        "for i in range(len(historicos)):\n",
        "\n",
        "  historico = historicos[i]\n",
        "\n",
        "  plt.subplots(figsize=(25, 5)) \n",
        "  # Grafico 1: Loss\n",
        "  plt.subplot(1,3,1)\n",
        "  plt.title(nome_modelo + ' V' + str(i) + ': Loss')\n",
        "  plt.xlabel('Epoch')\n",
        "  plt.ylabel('Cross Entropy')\n",
        "  plt.grid()\n",
        "  plt.plot(historico.history['loss'], label='Train Loss', color = 'blue')\n",
        "  plt.plot(historico.history['val_loss'], label='Val Loss', color = 'red')\n",
        "  plt.legend()\n",
        "\n",
        "  # Grafico 2: Acurácia\n",
        "  plt.subplot(1,3,2)\n",
        "  plt.title(nome_modelo + ' V' + str(i) + ': Accuracy')\n",
        "  plt.xlabel('Epoch')\n",
        "  plt.ylabel('Accuracy')\n",
        "  plt.grid()\n",
        "  plt.plot(historico.history['accuracy'],  label='Train Accuracy' , color = 'blue')\n",
        "  plt.plot(historico.history['val_accuracy'],label = 'Val Accuracy', color = 'red')\n",
        "  plt.legend()\n",
        "\n",
        "  # Grafico 3: Diferença de Acurácia\n",
        "  vetor_diferenca = diferenca(historico)\n",
        "\n",
        "  plt.subplot(1,3,3)\n",
        "  plt.title(nome_modelo + \" V\"+ str(i) + \": Variação da Acurácia\")\n",
        "  plt.xlabel(\"Epocas\")\n",
        "  plt.ylabel(\"Pontos Percentuais\")\n",
        "  plt.grid()\n",
        "  plt.plot(vetor_diferenca, color = 'red', label = 'abs(Train Acuracy - Val Acuracy)')\n",
        "  plt.legend()\n",
        "\n",
        "  plt.show()"
      ],
      "metadata": {
        "id": "iGnhCqJl4NET"
      },
      "execution_count": null,
      "outputs": []
    }
  ]
}